{
  "nbformat": 4,
  "nbformat_minor": 0,
  "metadata": {
    "colab": {
      "provenance": []
    },
    "kernelspec": {
      "name": "python3",
      "display_name": "Python 3"
    },
    "language_info": {
      "name": "python"
    }
  },
  "cells": [
    {
      "cell_type": "code",
      "execution_count": 2,
      "metadata": {
        "colab": {
          "base_uri": "https://localhost:8080/"
        },
        "id": "m5M5WgaU8OIe",
        "outputId": "b4daa623-8b1d-45fd-fcb6-8e941964b818"
      },
      "outputs": [
        {
          "output_type": "stream",
          "name": "stdout",
          "text": [
            "Database created and populated with 50 ratings.\n"
          ]
        }
      ],
      "source": [
        "import sqlite3\n",
        "import pandas as pd\n",
        "import numpy as np\n",
        "\n",
        "# 1. Connect to an in-memory database\n",
        "# (Use 'indian_ratings.db' for a file-based database that persists)\n",
        "conn = sqlite3.connect('indian_ratings.db')\n",
        "cursor = conn.cursor()\n",
        "\n",
        "# 2. Drop the table if it already exists to start fresh\n",
        "cursor.execute('DROP TABLE IF EXISTS indian_ratings')\n",
        "\n",
        "# 3. Create a new table with the PRIMARY KEY constraint\n",
        "cursor.execute('''\n",
        "CREATE TABLE indian_ratings (\n",
        "    user_id TEXT,\n",
        "    movie_id TEXT,\n",
        "    rating INTEGER,\n",
        "    PRIMARY KEY (user_id, movie_id)\n",
        ");\n",
        "''')\n",
        "conn.commit()\n",
        "\n",
        "# 4. Generate sample data\n",
        "users = ['Rahul', 'Priya', 'Amit', 'Pooja', 'Sanjay', 'Deepika', 'Akash', 'Shruti', 'Vikram', 'Anjali']\n",
        "movies = ['Sholay', '3 Idiots', 'Dangal', 'Baahubali 2', 'Lagaan', 'Gully Boy', 'Bajirao Mastani', 'RRR', 'K.G.F: Chapter 2']\n",
        "np.random.seed(42)\n",
        "\n",
        "data_to_insert = []\n",
        "# Ensure a sufficient number of unique ratings\n",
        "while len(data_to_insert) < 50:\n",
        "    user = np.random.choice(users)\n",
        "    movie = np.random.choice(movies)\n",
        "    rating = np.random.randint(1, 6) # Ratings from 1 to 5\n",
        "\n",
        "    # Check for uniqueness before adding to the list\n",
        "    if (user, movie) not in [(d[0], d[1]) for d in data_to_insert]:\n",
        "        data_to_insert.append((user, movie, rating))\n",
        "\n",
        "# 5. Insert the generated data into the table\n",
        "cursor.executemany('INSERT INTO indian_ratings VALUES (?, ?, ?)', data_to_insert)\n",
        "conn.commit()\n",
        "\n",
        "print(f\"Database created and populated with {len(data_to_insert)} ratings.\")\n",
        "\n",
        "# Close the connection for now\n",
        "conn.close()"
      ]
    },
    {
      "cell_type": "code",
      "source": [
        "import sqlite3\n",
        "import pandas as pd\n",
        "\n",
        "# Re-open the connection to the database file created in Part 1\n",
        "conn = sqlite3.connect('indian_ratings.db')\n",
        "\n",
        "# 1. Query all ratings into a pandas DataFrame\n",
        "query = \"SELECT user_id, movie_id, rating FROM indian_ratings\"\n",
        "long_format_ratings = pd.read_sql_query(query, conn)\n",
        "\n",
        "print(\"Ratings loaded from database:\")\n",
        "print(long_format_ratings.head())\n",
        "print(f\"Total entries: {len(long_format_ratings)}\")\n",
        "\n",
        "# 2. Save the DataFrame to a CSV file\n",
        "csv_file_path = 'indian_ratings.csv'\n",
        "long_format_ratings.to_csv(csv_file_path, index=False)\n",
        "\n",
        "print(f\"\\nData successfully saved to '{csv_file_path}'\")\n",
        "\n",
        "# Close the database connection\n",
        "conn.close()"
      ],
      "metadata": {
        "colab": {
          "base_uri": "https://localhost:8080/"
        },
        "id": "gNn8BgfU8Q8j",
        "outputId": "39ee7d83-a1cc-4d1e-bc9b-eca7ef9ae856"
      },
      "execution_count": 3,
      "outputs": [
        {
          "output_type": "stream",
          "name": "stdout",
          "text": [
            "Ratings loaded from database:\n",
            "   user_id         movie_id  rating\n",
            "0    Akash      Baahubali 2       5\n",
            "1   Shruti           Lagaan       2\n",
            "2     Amit  Bajirao Mastani       3\n",
            "3   Shruti              RRR       3\n",
            "4  Deepika           Lagaan       2\n",
            "Total entries: 50\n",
            "\n",
            "Data successfully saved to 'indian_ratings.csv'\n"
          ]
        }
      ]
    },
    {
      "cell_type": "code",
      "source": [
        "import pandas as pd\n",
        "import numpy as np\n",
        "\n",
        "# Load the data from the CSV file\n",
        "csv_file_path = 'indian_ratings.csv'\n",
        "long_format_ratings = pd.read_csv(csv_file_path)\n",
        "\n",
        "print(\"Loaded ratings from CSV (long format):\")\n",
        "print(long_format_ratings.head())\n",
        "\n",
        "# Pivot the data to create a user-item matrix with movies as rows and users as columns\n",
        "ratings_matrix = long_format_ratings.pivot(index='movie_id', columns='user_id', values='rating').fillna(0)\n",
        "\n",
        "print(\"\\nUser-Item Matrix (items as rows):\")\n",
        "print(ratings_matrix.head())"
      ],
      "metadata": {
        "colab": {
          "base_uri": "https://localhost:8080/"
        },
        "id": "II8bwhBR8axX",
        "outputId": "8751cd26-d53e-49b8-c416-8bed0ede5d80"
      },
      "execution_count": 4,
      "outputs": [
        {
          "output_type": "stream",
          "name": "stdout",
          "text": [
            "Loaded ratings from CSV (long format):\n",
            "   user_id         movie_id  rating\n",
            "0    Akash      Baahubali 2       5\n",
            "1   Shruti           Lagaan       2\n",
            "2     Amit  Bajirao Mastani       3\n",
            "3   Shruti              RRR       3\n",
            "4  Deepika           Lagaan       2\n",
            "\n",
            "User-Item Matrix (items as rows):\n",
            "user_id          Akash  Amit  Anjali  Deepika  Pooja  Priya  Rahul  Sanjay  \\\n",
            "movie_id                                                                     \n",
            "3 Idiots           4.0   0.0     0.0      0.0    4.0    2.0    2.0     0.0   \n",
            "Baahubali 2        5.0   0.0     4.0      3.0    5.0    0.0    0.0     0.0   \n",
            "Bajirao Mastani    5.0   3.0     4.0      5.0    4.0    0.0    0.0     2.0   \n",
            "Dangal             0.0   0.0     4.0      0.0    0.0    0.0    0.0     1.0   \n",
            "Gully Boy          0.0   4.0     5.0      0.0    5.0    2.0    5.0     0.0   \n",
            "\n",
            "user_id          Shruti  Vikram  \n",
            "movie_id                         \n",
            "3 Idiots            1.0     2.0  \n",
            "Baahubali 2         0.0     5.0  \n",
            "Bajirao Mastani     0.0     1.0  \n",
            "Dangal              1.0     1.0  \n",
            "Gully Boy           2.0     0.0  \n"
          ]
        }
      ]
    },
    {
      "cell_type": "code",
      "source": [
        "import pandas as pd\n",
        "import numpy as np\n",
        "\n",
        "# Assuming ratings_matrix from Part 1 is already loaded and prepared\n",
        "\n",
        "# Compute the item-item similarity matrix.\n",
        "# We will use pandas.corr() with method='pearson', which is equivalent to\n",
        "# cosine similarity for uncentered data.\n",
        "item_similarity_matrix = ratings_matrix.T.corr(method='pearson')\n",
        "\n",
        "print(\"\\nItem-Item Cosine Similarity Matrix:\")\n",
        "print(item_similarity_matrix.head())"
      ],
      "metadata": {
        "colab": {
          "base_uri": "https://localhost:8080/"
        },
        "id": "PHGkVvwG8pkQ",
        "outputId": "007ae777-9cd2-4b9e-cd8f-bda598ad4ab6"
      },
      "execution_count": 6,
      "outputs": [
        {
          "output_type": "stream",
          "name": "stdout",
          "text": [
            "\n",
            "Item-Item Cosine Similarity Matrix:\n",
            "movie_id         3 Idiots  Baahubali 2  Bajirao Mastani    Dangal  Gully Boy  \\\n",
            "movie_id                                                                       \n",
            "3 Idiots         1.000000     0.498922         0.068041 -0.421076   0.046575   \n",
            "Baahubali 2      0.498922     1.000000         0.633518  0.207613  -0.114819   \n",
            "Bajirao Mastani  0.068041     0.633518         1.000000  0.094547  -0.076056   \n",
            "Dangal          -0.421076     0.207613         0.094547  1.000000   0.231415   \n",
            "Gully Boy        0.046575    -0.114819        -0.076056  0.231415   1.000000   \n",
            "\n",
            "movie_id         K.G.F: Chapter 2    Lagaan       RRR    Sholay  \n",
            "movie_id                                                         \n",
            "3 Idiots                 0.185907 -0.232175  0.459432 -0.280900  \n",
            "Baahubali 2              0.017856 -0.332911  0.514533 -0.519370  \n",
            "Bajirao Mastani         -0.553699 -0.264044  0.123791 -0.589768  \n",
            "Dangal                  -0.115287 -0.427366 -0.246075 -0.081107  \n",
            "Gully Boy               -0.243227 -0.227083 -0.146361 -0.039248  \n"
          ]
        }
      ]
    },
    {
      "cell_type": "code",
      "source": [
        "import pandas as pd\n",
        "import numpy as np\n",
        "\n",
        "# Assuming ratings_matrix and item_similarity_matrix are already available\n",
        "\n",
        "def get_k_similar_items(item_sim_matrix, item, k=5):\n",
        "    \"\"\"\n",
        "    Finds the k most similar items for a given item.\n",
        "    \"\"\"\n",
        "    sim_scores = item_sim_matrix[item].drop(item)\n",
        "    return sim_scores.sort_values(ascending=False).head(k)\n",
        "\n",
        "def recommend_items_item_based(ratings_matrix, item_sim_matrix, user, k=5):\n",
        "    \"\"\"\n",
        "    Generates recommendations for a user based on item-based collaborative filtering.\n",
        "    \"\"\"\n",
        "    # 1. Get the user's rated movies\n",
        "    user_ratings = ratings_matrix[user][ratings_matrix[user] > 0]\n",
        "\n",
        "    # 2. Find similar items for each of the user's rated movies\n",
        "    weighted_scores = pd.Series(dtype=float)\n",
        "    for movie, rating in user_ratings.items():\n",
        "        similar_items = get_k_similar_items(item_sim_matrix, movie, k)\n",
        "\n",
        "        # Multiply the similarity score by the user's rating for that movie\n",
        "        weighted_scores = weighted_scores.add(similar_items * rating, fill_value=0)\n",
        "\n",
        "    # 3. Filter out movies the user has already rated and sort by score\n",
        "    recommendations = weighted_scores.drop(user_ratings.index, errors='ignore').sort_values(ascending=False)\n",
        "\n",
        "    return recommendations\n",
        "\n",
        "# Example: Get recommendations for a random user\n",
        "random_user = np.random.choice(ratings_matrix.columns)\n",
        "print(f\"\\nRecommendations for {random_user}:\")\n",
        "recommendations = recommend_items_item_based(ratings_matrix, item_similarity_matrix, random_user, k=5)\n",
        "print(recommendations)"
      ],
      "metadata": {
        "colab": {
          "base_uri": "https://localhost:8080/"
        },
        "id": "lACL2mcT8ftA",
        "outputId": "a8d3801c-282b-4b2c-de05-2428597aaca4"
      },
      "execution_count": 9,
      "outputs": [
        {
          "output_type": "stream",
          "name": "stdout",
          "text": [
            "\n",
            "Recommendations for Priya:\n",
            "movie_id\n",
            "RRR                2.073395\n",
            "Baahubali 2        0.857488\n",
            "Dangal             0.462831\n",
            "Bajirao Mastani   -0.016029\n",
            "Sholay            -0.041718\n",
            "dtype: float64\n"
          ]
        }
      ]
    }
  ]
}